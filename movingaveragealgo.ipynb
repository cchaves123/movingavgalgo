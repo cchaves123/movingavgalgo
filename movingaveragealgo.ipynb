{
 "cells": [
  {
   "cell_type": "code",
   "execution_count": 1,
   "id": "a255934a",
   "metadata": {},
   "outputs": [],
   "source": [
    "import pandas as pd\n",
    "import matplotlib as plt"
   ]
  },
  {
   "cell_type": "code",
   "execution_count": 2,
   "id": "6595b1ce",
   "metadata": {},
   "outputs": [
    {
     "data": {
      "text/html": [
       "<div>\n",
       "<style scoped>\n",
       "    .dataframe tbody tr th:only-of-type {\n",
       "        vertical-align: middle;\n",
       "    }\n",
       "\n",
       "    .dataframe tbody tr th {\n",
       "        vertical-align: top;\n",
       "    }\n",
       "\n",
       "    .dataframe thead th {\n",
       "        text-align: right;\n",
       "    }\n",
       "</style>\n",
       "<table border=\"1\" class=\"dataframe\">\n",
       "  <thead>\n",
       "    <tr style=\"text-align: right;\">\n",
       "      <th></th>\n",
       "      <th>Date</th>\n",
       "      <th>Open</th>\n",
       "      <th>High</th>\n",
       "      <th>Low</th>\n",
       "      <th>Close</th>\n",
       "      <th>Volume</th>\n",
       "      <th>MA5</th>\n",
       "      <th>MA30</th>\n",
       "    </tr>\n",
       "  </thead>\n",
       "  <tbody>\n",
       "    <tr>\n",
       "      <th>29</th>\n",
       "      <td>10/19/2020</td>\n",
       "      <td>119.96</td>\n",
       "      <td>120.42</td>\n",
       "      <td>115.66</td>\n",
       "      <td>115.98</td>\n",
       "      <td>120,639,297</td>\n",
       "      <td>119.600</td>\n",
       "      <td>114.636667</td>\n",
       "    </tr>\n",
       "    <tr>\n",
       "      <th>30</th>\n",
       "      <td>10/20/2020</td>\n",
       "      <td>116.20</td>\n",
       "      <td>118.98</td>\n",
       "      <td>115.63</td>\n",
       "      <td>117.51</td>\n",
       "      <td>124,423,695</td>\n",
       "      <td>118.882</td>\n",
       "      <td>114.793000</td>\n",
       "    </tr>\n",
       "    <tr>\n",
       "      <th>31</th>\n",
       "      <td>10/21/2020</td>\n",
       "      <td>116.67</td>\n",
       "      <td>118.71</td>\n",
       "      <td>116.45</td>\n",
       "      <td>116.87</td>\n",
       "      <td>89,945,984</td>\n",
       "      <td>118.018</td>\n",
       "      <td>114.778000</td>\n",
       "    </tr>\n",
       "    <tr>\n",
       "      <th>32</th>\n",
       "      <td>10/22/2020</td>\n",
       "      <td>117.45</td>\n",
       "      <td>118.04</td>\n",
       "      <td>114.59</td>\n",
       "      <td>115.75</td>\n",
       "      <td>101,988,000</td>\n",
       "      <td>117.026</td>\n",
       "      <td>114.853333</td>\n",
       "    </tr>\n",
       "    <tr>\n",
       "      <th>33</th>\n",
       "      <td>10/23/2020</td>\n",
       "      <td>116.39</td>\n",
       "      <td>116.55</td>\n",
       "      <td>114.28</td>\n",
       "      <td>115.04</td>\n",
       "      <td>82,572,648</td>\n",
       "      <td>116.230</td>\n",
       "      <td>114.954667</td>\n",
       "    </tr>\n",
       "  </tbody>\n",
       "</table>\n",
       "</div>"
      ],
      "text/plain": [
       "          Date    Open    High     Low   Close       Volume      MA5  \\\n",
       "29  10/19/2020  119.96  120.42  115.66  115.98  120,639,297  119.600   \n",
       "30  10/20/2020  116.20  118.98  115.63  117.51  124,423,695  118.882   \n",
       "31  10/21/2020  116.67  118.71  116.45  116.87   89,945,984  118.018   \n",
       "32  10/22/2020  117.45  118.04  114.59  115.75  101,988,000  117.026   \n",
       "33  10/23/2020  116.39  116.55  114.28  115.04   82,572,648  116.230   \n",
       "\n",
       "          MA30  \n",
       "29  114.636667  \n",
       "30  114.793000  \n",
       "31  114.778000  \n",
       "32  114.853333  \n",
       "33  114.954667  "
      ]
     },
     "execution_count": 2,
     "metadata": {},
     "output_type": "execute_result"
    }
   ],
   "source": [
    "#this program tests a moving average trading strategy over a year period for aapl\n",
    "#when the 5 day moving average of the closing price\n",
    "#is greater than the 30 day moving average,\n",
    "#we buy and hold for one day\n",
    "#otherwise, we do nothing\n",
    "#import AAPL's stock data, add two columns - MA5 and MA30\n",
    "aapl = pd.read_csv('aapl1yr.csv')\n",
    "aapl['MA5'] = aapl['Close'].rolling(5).mean()\n",
    "aapl['MA30'] = aapl['Close'].rolling(30).mean()\n",
    "aapl = aapl.dropna()\n",
    "aapl.head()"
   ]
  },
  {
   "cell_type": "code",
   "execution_count": 3,
   "id": "64921966",
   "metadata": {},
   "outputs": [],
   "source": [
    "#create signal -- 1 means long 1 share, 0 means do nothing\n",
    "aapl['Shares'] = [1 if aapl.loc[ei, 'MA5']>aapl.loc[ei, 'MA30'] else 0 for ei in aapl.index]"
   ]
  },
  {
   "cell_type": "code",
   "execution_count": 4,
   "id": "ebb5d5a5",
   "metadata": {},
   "outputs": [
    {
     "data": {
      "text/plain": [
       "<matplotlib.lines.Line2D at 0x27d4f6d2d60>"
      ]
     },
     "execution_count": 4,
     "metadata": {},
     "output_type": "execute_result"
    },
    {
     "data": {
      "image/png": "[encoded data removed]",
      "text/plain": [
       "<Figure size 432x288 with 1 Axes>"
      ]
     },
     "metadata": {
      "needs_background": "light"
     },
     "output_type": "display_data"
    }
   ],
   "source": [
    "#adding a profit column\n",
    "#plot a graph to show the p/l\n",
    "\n",
    "aapl['Close1'] = aapl['Close'].shift(-1)\n",
    "aapl['Profit'] = [aapl.loc[ei, 'Close1'] - aapl.loc[ei, 'Close'] if aapl.loc[ei, 'Shares'] == 1\n",
    "                  else 0 for ei in aapl.index]\n",
    "aapl['Profit'].plot()\n",
    "plt.pyplot.axhline(y=0, color='red')"
   ]
  },
  {
   "cell_type": "code",
   "execution_count": 5,
   "id": "55d141e5",
   "metadata": {},
   "outputs": [
    {
     "data": {
      "text/html": [
       "<div>\n",
       "<style scoped>\n",
       "    .dataframe tbody tr th:only-of-type {\n",
       "        vertical-align: middle;\n",
       "    }\n",
       "\n",
       "    .dataframe tbody tr th {\n",
       "        vertical-align: top;\n",
       "    }\n",
       "\n",
       "    .dataframe thead th {\n",
       "        text-align: right;\n",
       "    }\n",
       "</style>\n",
       "<table border=\"1\" class=\"dataframe\">\n",
       "  <thead>\n",
       "    <tr style=\"text-align: right;\">\n",
       "      <th></th>\n",
       "      <th>Date</th>\n",
       "      <th>Open</th>\n",
       "      <th>High</th>\n",
       "      <th>Low</th>\n",
       "      <th>Close</th>\n",
       "      <th>Volume</th>\n",
       "      <th>MA5</th>\n",
       "      <th>MA30</th>\n",
       "      <th>Shares</th>\n",
       "      <th>Close1</th>\n",
       "      <th>Profit</th>\n",
       "      <th>Wealth</th>\n",
       "    </tr>\n",
       "  </thead>\n",
       "  <tbody>\n",
       "    <tr>\n",
       "      <th>247</th>\n",
       "      <td>8/31/2021</td>\n",
       "      <td>152.66</td>\n",
       "      <td>152.80</td>\n",
       "      <td>151.29</td>\n",
       "      <td>151.83</td>\n",
       "      <td>86,453,117</td>\n",
       "      <td>149.890</td>\n",
       "      <td>147.763667</td>\n",
       "      <td>1</td>\n",
       "      <td>152.51</td>\n",
       "      <td>0.68</td>\n",
       "      <td>31.74</td>\n",
       "    </tr>\n",
       "    <tr>\n",
       "      <th>248</th>\n",
       "      <td>9/1/2021</td>\n",
       "      <td>152.83</td>\n",
       "      <td>154.98</td>\n",
       "      <td>152.34</td>\n",
       "      <td>152.51</td>\n",
       "      <td>80,313,711</td>\n",
       "      <td>150.720</td>\n",
       "      <td>148.000667</td>\n",
       "      <td>1</td>\n",
       "      <td>153.65</td>\n",
       "      <td>1.14</td>\n",
       "      <td>32.88</td>\n",
       "    </tr>\n",
       "    <tr>\n",
       "      <th>249</th>\n",
       "      <td>9/2/2021</td>\n",
       "      <td>153.87</td>\n",
       "      <td>154.72</td>\n",
       "      <td>152.40</td>\n",
       "      <td>153.65</td>\n",
       "      <td>71,171,320</td>\n",
       "      <td>151.942</td>\n",
       "      <td>148.229000</td>\n",
       "      <td>1</td>\n",
       "      <td>154.30</td>\n",
       "      <td>0.65</td>\n",
       "      <td>33.53</td>\n",
       "    </tr>\n",
       "    <tr>\n",
       "      <th>250</th>\n",
       "      <td>9/3/2021</td>\n",
       "      <td>153.76</td>\n",
       "      <td>154.63</td>\n",
       "      <td>153.09</td>\n",
       "      <td>154.30</td>\n",
       "      <td>57,866,070</td>\n",
       "      <td>153.082</td>\n",
       "      <td>148.420333</td>\n",
       "      <td>1</td>\n",
       "      <td>156.69</td>\n",
       "      <td>2.39</td>\n",
       "      <td>35.92</td>\n",
       "    </tr>\n",
       "    <tr>\n",
       "      <th>251</th>\n",
       "      <td>9/7/2021</td>\n",
       "      <td>154.97</td>\n",
       "      <td>157.26</td>\n",
       "      <td>154.39</td>\n",
       "      <td>156.69</td>\n",
       "      <td>82,120,100</td>\n",
       "      <td>153.796</td>\n",
       "      <td>148.677000</td>\n",
       "      <td>1</td>\n",
       "      <td>NaN</td>\n",
       "      <td>NaN</td>\n",
       "      <td>NaN</td>\n",
       "    </tr>\n",
       "  </tbody>\n",
       "</table>\n",
       "</div>"
      ],
      "text/plain": [
       "          Date    Open    High     Low   Close      Volume      MA5  \\\n",
       "247  8/31/2021  152.66  152.80  151.29  151.83  86,453,117  149.890   \n",
       "248   9/1/2021  152.83  154.98  152.34  152.51  80,313,711  150.720   \n",
       "249   9/2/2021  153.87  154.72  152.40  153.65  71,171,320  151.942   \n",
       "250   9/3/2021  153.76  154.63  153.09  154.30  57,866,070  153.082   \n",
       "251   9/7/2021  154.97  157.26  154.39  156.69  82,120,100  153.796   \n",
       "\n",
       "           MA30  Shares  Close1  Profit  Wealth  \n",
       "247  147.763667       1  152.51    0.68   31.74  \n",
       "248  148.000667       1  153.65    1.14   32.88  \n",
       "249  148.229000       1  154.30    0.65   33.53  \n",
       "250  148.420333       1  156.69    2.39   35.92  \n",
       "251  148.677000       1     NaN     NaN     NaN  "
      ]
     },
     "execution_count": 5,
     "metadata": {},
     "output_type": "execute_result"
    }
   ],
   "source": [
    "#use .cumsum() to calculate the accumulated wealth over the period\n",
    "\n",
    "aapl['Wealth'] = aapl['Profit'].cumsum()\n",
    "aapl.tail()"
   ]
  },
  {
   "cell_type": "code",
   "execution_count": 6,
   "id": "b1f1f562",
   "metadata": {},
   "outputs": [
    {
     "data": {
      "text/plain": [
       "Text(0.5, 1.0, 'Total money you win is 35.920000000000016')"
      ]
     },
     "execution_count": 6,
     "metadata": {},
     "output_type": "execute_result"
    },
    {
     "data": {
      "image/png": "[encoded data removed]",
      "text/plain": [
       "<Figure size 432x288 with 1 Axes>"
      ]
     },
     "metadata": {
      "needs_background": "light"
     },
     "output_type": "display_data"
    }
   ],
   "source": [
    "#plot the wealth to show the growth of profit over the period\n",
    "\n",
    "aapl['Wealth'].plot()\n",
    "plt.pyplot.title('Total money you win is {}'.format(aapl.loc[aapl.index[-2], 'Wealth']))"
   ]
  },
  {
   "cell_type": "code",
   "execution_count": 7,
   "id": "3ec08fe7",
   "metadata": {},
   "outputs": [
    {
     "data": {
      "text/plain": [
       "38.32000000000001"
      ]
     },
     "execution_count": 7,
     "metadata": {},
     "output_type": "execute_result"
    }
   ],
   "source": [
    "#compare to buy and hold\n",
    "#this strategy underperforms buy and hold\n",
    "#starting on day 29\n",
    "\n",
    "bandlprofit = aapl.loc[aapl.index[-2], 'Close'] - aapl.loc[aapl.index[0], 'Close']\n",
    "bandlprofit"
   ]
  },
  {
   "cell_type": "code",
   "execution_count": null,
   "id": "33c1fc4e",
   "metadata": {},
   "outputs": [],
   "source": []
  }
 ],
 "metadata": {
  "kernelspec": {
   "display_name": "Python 3 (ipykernel)",
   "language": "python",
   "name": "python3"
  },
  "language_info": {
   "codemirror_mode": {
    "name": "ipython",
    "version": 3
   },
   "file_extension": ".py",
   "mimetype": "text/x-python",
   "name": "python",
   "nbconvert_exporter": "python",
   "pygments_lexer": "ipython3",
   "version": "3.9.6"
  }
 },
 "nbformat": 4,
 "nbformat_minor": 5
}
